{
 "cells": [
  {
   "cell_type": "markdown",
   "id": "f6e05949",
   "metadata": {},
   "source": [
    "<h2 align=\"center\">Лабораторна робота №5</h2>\n",
    "<h5 align=\"right\">Роботу виконав студент групи ФІ-21, Беркута Володимир</h5>\n",
    "<p><b><i>Тема роботи:</i></b> \"Методи й алгоритми розв'язання задачі про рюкзак\".</p>\n",
    "<p><b><i>Мета роботи:</i></b> опанувати принципи роботи наведених у роботі алгоритмів для знаходження розв'язку задачі про рюкзак(наплічник). Розробити відповідне програмне забезпечення, визначити оптимальні параметри його роботи з метою пришвидшення отримання розв'язку задачі.</p>"
   ]
  },
  {
   "cell_type": "markdown",
   "id": "16009796",
   "metadata": {},
   "source": [
    "## Завдання до лабораторної роботи\n",
    "\n",
    "- Познайомитись з методами розв'язування поставленої задачі комбінаторної оптимізації у базовому варіанті.\n",
    "- Реалізувати генератор даних для розв'язування задачі про рюкзак (урахувати те, що для згенерованих даних задачі повинна мати розв'язок). Генерацію об'єктів здійснити різної розмірності (різна кількість об'єктів має бути серед вибору). Кількість елементів для кладки в рюкзак взяти меншою за 20.\n",
    "- Реалізувати (середовище і мова на вибір студента) два алгоритми розв'язку задачі про рюкзак: \n",
    "    \n",
    "    1) генетичний алгоритм у класичному його поданні; \n",
    "    2) один на вибір -- жадібний або імітації відпалу.\n",
    "\n",
    "    Для кожного набору даних (відповідної розмірності) має бути знайдений розв'язок задач.\n",
    "- Взяти текстові файли (два будь-які) зі згенерованими даними (перше число - значення максмальної вмістимості рюказака; два інші числа у наступних рядках - вага та ціна об'єкта відповідно, який може бути покладено (або не покладено) в рюкзак). Протестувати реалізований для задачі генетичний алгоритм на цих даних.\n",
    "- Показати динаміку збіжності генетичного алгоритму на основі гістограми популяції, яка змінюється з кожною ітерацією (по осі абсцис - номер хромосоми, по ординат - значення цільової функції). Візуалізацію поточної гістограми можна робити кожні K ітерацій, а не кожну ітерацію, щоб зменшити загальне навантаження на процесор. Також через K ітерацій показати графік кращого знайденого маршруту (гамільтонового циклу).\n",
    "- Показати графік збіжності кращого рішення (по осі OX - номер ітерації; по осі OY - краще значення цільової функції).\n",
    "- Зробити висновки до отриманих даних"
   ]
  },
  {
   "cell_type": "code",
   "execution_count": 1,
   "id": "faab2c8d",
   "metadata": {},
   "outputs": [],
   "source": [
    "import matplotlib.pyplot as plt\n",
    "import numpy as np\n",
    "\n",
    "from GA import *\n",
    "from Anealing import *\n",
    "\n",
    "random.seed(1)"
   ]
  },
  {
   "cell_type": "code",
   "execution_count": 2,
   "id": "4bb8b248",
   "metadata": {},
   "outputs": [],
   "source": [
    "def generate_knapsack_problem():\n",
    "    number_of_items = np.random.randint(50, 100)\n",
    "    max_weight = np.random.randint(0, 1000)\n",
    "    items_info = np.random.randint(1, max_weight, (number_of_items, 2))\n",
    "    return number_of_items, max_weight, items_info"
   ]
  },
  {
   "cell_type": "code",
   "execution_count": 3,
   "id": "4e98808b",
   "metadata": {},
   "outputs": [],
   "source": [
    "noi, mw, ii = generate_knapsack_problem()"
   ]
  },
  {
   "cell_type": "code",
   "execution_count": 4,
   "id": "fd98f10a",
   "metadata": {},
   "outputs": [
    {
     "data": {
      "text/plain": [
       "array([[3, 2],\n",
       "       [2, 2],\n",
       "       [3, 2],\n",
       "       [2, 3],\n",
       "       [3, 2],\n",
       "       [3, 1],\n",
       "       [2, 3],\n",
       "       [2, 1],\n",
       "       [3, 2],\n",
       "       [1, 1],\n",
       "       [1, 1],\n",
       "       [1, 2],\n",
       "       [3, 3],\n",
       "       [3, 2],\n",
       "       [1, 3],\n",
       "       [3, 2],\n",
       "       [3, 1],\n",
       "       [1, 3],\n",
       "       [2, 1],\n",
       "       [2, 1],\n",
       "       [3, 2],\n",
       "       [2, 1],\n",
       "       [3, 3],\n",
       "       [1, 3],\n",
       "       [2, 1],\n",
       "       [2, 1],\n",
       "       [2, 1],\n",
       "       [1, 1],\n",
       "       [3, 2],\n",
       "       [3, 2],\n",
       "       [1, 1],\n",
       "       [3, 1],\n",
       "       [3, 2],\n",
       "       [2, 3],\n",
       "       [2, 3],\n",
       "       [1, 1],\n",
       "       [1, 1],\n",
       "       [3, 3],\n",
       "       [3, 3],\n",
       "       [3, 1],\n",
       "       [3, 1],\n",
       "       [3, 1],\n",
       "       [3, 3],\n",
       "       [3, 1],\n",
       "       [3, 3],\n",
       "       [2, 2],\n",
       "       [3, 1],\n",
       "       [3, 1],\n",
       "       [1, 1],\n",
       "       [3, 2],\n",
       "       [3, 2],\n",
       "       [2, 3],\n",
       "       [2, 1],\n",
       "       [2, 3],\n",
       "       [1, 1],\n",
       "       [2, 2],\n",
       "       [2, 2],\n",
       "       [3, 2],\n",
       "       [1, 1],\n",
       "       [1, 3],\n",
       "       [2, 2],\n",
       "       [2, 3],\n",
       "       [3, 2],\n",
       "       [2, 2],\n",
       "       [2, 2],\n",
       "       [2, 2],\n",
       "       [1, 1],\n",
       "       [2, 3],\n",
       "       [2, 3],\n",
       "       [3, 3],\n",
       "       [1, 3],\n",
       "       [1, 1],\n",
       "       [3, 3],\n",
       "       [1, 3],\n",
       "       [1, 1],\n",
       "       [1, 2],\n",
       "       [3, 3],\n",
       "       [3, 2],\n",
       "       [1, 3],\n",
       "       [1, 2],\n",
       "       [1, 2]], dtype=int32)"
      ]
     },
     "execution_count": 4,
     "metadata": {},
     "output_type": "execute_result"
    }
   ],
   "source": [
    "ii"
   ]
  },
  {
   "cell_type": "markdown",
   "id": "314672b8",
   "metadata": {},
   "source": [
    "## Genetic algorithm"
   ]
  },
  {
   "cell_type": "code",
   "execution_count": null,
   "id": "2db5819b",
   "metadata": {},
   "outputs": [],
   "source": [
    "[0 1 1 0 1 0 0 2 1 3 2 4 0 1 2 0 0 2 2 1 1 1 0 0 1 2 1 4 1 0 3 0 1 2 0 2 0\n",
    " 0 0 0 1 0 1 1 0 1 1 0 1 1 1 2 1 0 4 0 0 1 2 1 1 1 0 1 1 0 0 0 1 0 4 4 1 1\n",
    " 4 3 0 1 4 4 2]"
   ]
  },
  {
   "cell_type": "code",
   "execution_count": 16,
   "id": "7c99d227",
   "metadata": {},
   "outputs": [
    {
     "name": "stdout",
     "output_type": "stream",
     "text": [
      "Максимальна вага рюкзака: 4\n",
      "Згенеровані предмети (вага, вартість):\n",
      "Предмет 1: [3 2]\n",
      "Предмет 2: [2 2]\n",
      "Предмет 3: [3 2]\n",
      "Предмет 4: [2 3]\n",
      "Предмет 5: [3 2]\n",
      "Предмет 6: [3 1]\n",
      "Предмет 7: [2 3]\n",
      "Предмет 8: [2 1]\n",
      "Предмет 9: [3 2]\n",
      "Предмет 10: [1 1]\n",
      "Предмет 11: [1 1]\n",
      "Предмет 12: [1 2]\n",
      "Предмет 13: [3 3]\n",
      "Предмет 14: [3 2]\n",
      "Предмет 15: [1 3]\n",
      "Предмет 16: [3 2]\n",
      "Предмет 17: [3 1]\n",
      "Предмет 18: [1 3]\n",
      "Предмет 19: [2 1]\n",
      "Предмет 20: [2 1]\n",
      "Предмет 21: [3 2]\n",
      "Предмет 22: [2 1]\n",
      "Предмет 23: [3 3]\n",
      "Предмет 24: [1 3]\n",
      "Предмет 25: [2 1]\n",
      "Предмет 26: [2 1]\n",
      "Предмет 27: [2 1]\n",
      "Предмет 28: [1 1]\n",
      "Предмет 29: [3 2]\n",
      "Предмет 30: [3 2]\n",
      "Предмет 31: [1 1]\n",
      "Предмет 32: [3 1]\n",
      "Предмет 33: [3 2]\n",
      "Предмет 34: [2 3]\n",
      "Предмет 35: [2 3]\n",
      "Предмет 36: [1 1]\n",
      "Предмет 37: [1 1]\n",
      "Предмет 38: [3 3]\n",
      "Предмет 39: [3 3]\n",
      "Предмет 40: [3 1]\n",
      "Предмет 41: [3 1]\n",
      "Предмет 42: [3 1]\n",
      "Предмет 43: [3 3]\n",
      "Предмет 44: [3 1]\n",
      "Предмет 45: [3 3]\n",
      "Предмет 46: [2 2]\n",
      "Предмет 47: [3 1]\n",
      "Предмет 48: [3 1]\n",
      "Предмет 49: [1 1]\n",
      "Предмет 50: [3 2]\n",
      "Предмет 51: [3 2]\n",
      "Предмет 52: [2 3]\n",
      "Предмет 53: [2 1]\n",
      "Предмет 54: [2 3]\n",
      "Предмет 55: [1 1]\n",
      "Предмет 56: [2 2]\n",
      "Предмет 57: [2 2]\n",
      "Предмет 58: [3 2]\n",
      "Предмет 59: [1 1]\n",
      "Предмет 60: [1 3]\n",
      "Предмет 61: [2 2]\n",
      "Предмет 62: [2 3]\n",
      "Предмет 63: [3 2]\n",
      "Предмет 64: [2 2]\n",
      "Предмет 65: [2 2]\n",
      "Предмет 66: [2 2]\n",
      "Предмет 67: [1 1]\n",
      "Предмет 68: [2 3]\n",
      "Предмет 69: [2 3]\n",
      "Предмет 70: [3 3]\n",
      "Предмет 71: [1 3]\n",
      "Предмет 72: [1 1]\n",
      "Предмет 73: [3 3]\n",
      "Предмет 74: [1 3]\n",
      "Предмет 75: [1 1]\n",
      "Предмет 76: [1 2]\n",
      "Предмет 77: [3 3]\n",
      "Предмет 78: [3 2]\n",
      "Предмет 79: [1 3]\n",
      "Предмет 80: [1 2]\n",
      "Предмет 81: [1 2]\n",
      "\n",
      "Найкращий розв'язок:\n",
      "Вартість: 0\n",
      "Вибрані предмети: [0 1 1 0 1 0 0 2 1 3 2 4 0 1 2 0 0 2 2 1 1 1 0 0 1 2 1 4 1 0 3 0 1 2 0 2 0\n",
      " 0 0 0 1 0 1 1 0 1 1 0 1 1 1 2 1 0 4 0 0 1 2 1 1 1 0 1 1 0 0 0 1 0 4 4 1 1\n",
      " 4 3 0 1 4 4 2]\n"
     ]
    }
   ],
   "source": [
    "max_weight = 4\n",
    "items = ii\n",
    "print(\"Максимальна вага рюкзака:\", max_weight)\n",
    "print(\"Згенеровані предмети (вага, вартість):\")\n",
    "for i, item in enumerate(items):\n",
    "    print(f\"Предмет {i+1}: {item}\")\n",
    "\n",
    "ga_solver = GA(items, max_weight, population_size=100, generations=1000)\n",
    "\n",
    "best_solution, best_value = ga_solver.run()\n",
    "\n",
    "print(\"\\nНайкращий розв'язок:\")\n",
    "print(f\"Вартість: {best_value[-1]}\")\n",
    "print(\"Вибрані предмети:\", best_solution[-1])"
   ]
  },
  {
   "cell_type": "code",
   "execution_count": 17,
   "id": "f1e528c5",
   "metadata": {},
   "outputs": [
    {
     "data": {
      "text/plain": [
       "np.int64(148)"
      ]
     },
     "execution_count": 17,
     "metadata": {},
     "output_type": "execute_result"
    }
   ],
   "source": [
    "best_solution[-1] @ ii[..., 0]"
   ]
  },
  {
   "cell_type": "code",
   "execution_count": 18,
   "id": "f43cd6dc",
   "metadata": {},
   "outputs": [],
   "source": [
    "delta_weight = mw - (best_solution[-1] @ ii[..., 0])\n",
    "for i in range(len(ii)):\n",
    "    if ii[i, 0] < delta_weight:\n",
    "        print(f\"Предмет {i+1} може ще вміститися в рюкзак\")"
   ]
  },
  {
   "cell_type": "code",
   "execution_count": 19,
   "id": "1ec78df5",
   "metadata": {},
   "outputs": [
    {
     "data": {
      "text/plain": [
       "[<matplotlib.lines.Line2D at 0x1a7965454c0>]"
      ]
     },
     "execution_count": 19,
     "metadata": {},
     "output_type": "execute_result"
    },
    {
     "data": {
      "image/png": "[encoded data removed]",
      "text/plain": [
       "<Figure size 640x480 with 1 Axes>"
      ]
     },
     "metadata": {},
     "output_type": "display_data"
    }
   ],
   "source": [
    "plt.plot(list(range(len(best_value))), best_value, label='Генетичний алгоритм')"
   ]
  },
  {
   "cell_type": "code",
   "execution_count": 20,
   "id": "efbdf214",
   "metadata": {},
   "outputs": [
    {
     "name": "stdout",
     "output_type": "stream",
     "text": [
      "86_762_353_606_963_200_000_000_000_000_000_000_000, 38\n"
     ]
    }
   ],
   "source": [
    "res = []\n",
    "for i in range(len(ii)):\n",
    "    res.append(int(mw // ii[i, 0])+1)\n",
    "mlres = 1\n",
    "for a in res:\n",
    "    mlres *= a\n",
    "print(f\"{mlres:_}, {len(str(mlres))}\")"
   ]
  },
  {
   "cell_type": "markdown",
   "id": "d4e2e6c6",
   "metadata": {},
   "source": [
    "## Anealing"
   ]
  },
  {
   "cell_type": "code",
   "execution_count": 10,
   "id": "4d18773a",
   "metadata": {},
   "outputs": [
    {
     "name": "stdout",
     "output_type": "stream",
     "text": [
      "Предмети (вага, вартість):\n",
      "Предмет 1: [3 2]\n",
      "Предмет 2: [2 2]\n",
      "Предмет 3: [3 2]\n",
      "Предмет 4: [2 3]\n",
      "Предмет 5: [3 2]\n",
      "Предмет 6: [3 1]\n",
      "Предмет 7: [2 3]\n",
      "Предмет 8: [2 1]\n",
      "Предмет 9: [3 2]\n",
      "Предмет 10: [1 1]\n",
      "Предмет 11: [1 1]\n",
      "Предмет 12: [1 2]\n",
      "Предмет 13: [3 3]\n",
      "Предмет 14: [3 2]\n",
      "Предмет 15: [1 3]\n",
      "Предмет 16: [3 2]\n",
      "Предмет 17: [3 1]\n",
      "Предмет 18: [1 3]\n",
      "Предмет 19: [2 1]\n",
      "Предмет 20: [2 1]\n",
      "Предмет 21: [3 2]\n",
      "Предмет 22: [2 1]\n",
      "Предмет 23: [3 3]\n",
      "Предмет 24: [1 3]\n",
      "Предмет 25: [2 1]\n",
      "Предмет 26: [2 1]\n",
      "Предмет 27: [2 1]\n",
      "Предмет 28: [1 1]\n",
      "Предмет 29: [3 2]\n",
      "Предмет 30: [3 2]\n",
      "Предмет 31: [1 1]\n",
      "Предмет 32: [3 1]\n",
      "Предмет 33: [3 2]\n",
      "Предмет 34: [2 3]\n",
      "Предмет 35: [2 3]\n",
      "Предмет 36: [1 1]\n",
      "Предмет 37: [1 1]\n",
      "Предмет 38: [3 3]\n",
      "Предмет 39: [3 3]\n",
      "Предмет 40: [3 1]\n",
      "Предмет 41: [3 1]\n",
      "Предмет 42: [3 1]\n",
      "Предмет 43: [3 3]\n",
      "Предмет 44: [3 1]\n",
      "Предмет 45: [3 3]\n",
      "Предмет 46: [2 2]\n",
      "Предмет 47: [3 1]\n",
      "Предмет 48: [3 1]\n",
      "Предмет 49: [1 1]\n",
      "Предмет 50: [3 2]\n",
      "Предмет 51: [3 2]\n",
      "Предмет 52: [2 3]\n",
      "Предмет 53: [2 1]\n",
      "Предмет 54: [2 3]\n",
      "Предмет 55: [1 1]\n",
      "Предмет 56: [2 2]\n",
      "Предмет 57: [2 2]\n",
      "Предмет 58: [3 2]\n",
      "Предмет 59: [1 1]\n",
      "Предмет 60: [1 3]\n",
      "Предмет 61: [2 2]\n",
      "Предмет 62: [2 3]\n",
      "Предмет 63: [3 2]\n",
      "Предмет 64: [2 2]\n",
      "Предмет 65: [2 2]\n",
      "Предмет 66: [2 2]\n",
      "Предмет 67: [1 1]\n",
      "Предмет 68: [2 3]\n",
      "Предмет 69: [2 3]\n",
      "Предмет 70: [3 3]\n",
      "Предмет 71: [1 3]\n",
      "Предмет 72: [1 1]\n",
      "Предмет 73: [3 3]\n",
      "Предмет 74: [1 3]\n",
      "Предмет 75: [1 1]\n",
      "Предмет 76: [1 2]\n",
      "Предмет 77: [3 3]\n",
      "Предмет 78: [3 2]\n",
      "Предмет 79: [1 3]\n",
      "Предмет 80: [1 2]\n",
      "Предмет 81: [1 2]\n",
      "\n",
      "Найкращий розв'язок:\n",
      "Загальна вартість: 0\n",
      "Загальна вага: 127/4\n",
      "Вибрані предмети: [0 1 1 0 1 0 1 1 1 2 0 2 0 0 2 0 0 4 0 2 1 0 0 3 2 2 0 3 0 0 3 0 1 2 0 0 1\n",
      " 0 1 1 0 0 1 1 0 0 0 1 4 0 1 2 0 0 2 2 1 0 3 2 1 2 0 0 0 2 0 0 1 1 0 3 0 0\n",
      " 4 1 1 0 3 0 2]\n"
     ]
    }
   ],
   "source": [
    "max_weight = mw\n",
    "items = ii\n",
    "\n",
    "print(\"Предмети (вага, вартість):\")\n",
    "for i, item in enumerate(items):\n",
    "    print(f\"Предмет {i+1}: {item}\")\n",
    "\n",
    "sa_solver = SA(items, max_weight, initial_temp=200, cooling_rate=0.999, iterations=100_000)\n",
    "\n",
    "best_solution, best_value_history = sa_solver.run()\n",
    "\n",
    "# Обчислення ваги рішення\n",
    "total_weight = best_solution @ items[..., 0]\n",
    "\n",
    "print(\"\\nНайкращий розв'язок:\")\n",
    "print(f\"Загальна вартість: {best_value_history[-1]}\")\n",
    "print(f\"Загальна вага: {total_weight}/{max_weight}\")\n",
    "print(\"Вибрані предмети:\", best_solution)"
   ]
  },
  {
   "cell_type": "code",
   "execution_count": 11,
   "id": "3f1e9692",
   "metadata": {},
   "outputs": [
    {
     "data": {
      "text/plain": [
       "[<matplotlib.lines.Line2D at 0x1a7965a9040>]"
      ]
     },
     "execution_count": 11,
     "metadata": {},
     "output_type": "execute_result"
    },
    {
     "data": {
      "image/png": "[encoded data removed]",
      "text/plain": [
       "<Figure size 640x480 with 1 Axes>"
      ]
     },
     "metadata": {},
     "output_type": "display_data"
    }
   ],
   "source": [
    "plt.plot(list(range(len(best_value_history))), best_value_history, label='Метод відпалу')"
   ]
  },
  {
   "cell_type": "code",
   "execution_count": null,
   "id": "c5a86270",
   "metadata": {},
   "outputs": [],
   "source": []
  }
 ],
 "metadata": {
  "kernelspec": {
   "display_name": "venv_lab5",
   "language": "python",
   "name": "python3"
  },
  "language_info": {
   "codemirror_mode": {
    "name": "ipython",
    "version": 3
   },
   "file_extension": ".py",
   "mimetype": "text/x-python",
   "name": "python",
   "nbconvert_exporter": "python",
   "pygments_lexer": "ipython3",
   "version": "3.12.1"
  }
 },
 "nbformat": 4,
 "nbformat_minor": 5
}
