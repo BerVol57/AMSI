{
 "cells": [
  {
   "cell_type": "markdown",
   "id": "f6e05949",
   "metadata": {},
   "source": [
    "<h2 align=\"center\">Лабораторна робота №5</h2>\n",
    "<h5 align=\"right\">Роботу виконав студент групи ФІ-21, Беркута Володимир</h5>\n",
    "<p><b><i>Тема роботи:</i></b> \"Методи й алгоритми розв'язання задачі про рюкзак\".</p>\n",
    "<p><b><i>Мета роботи:</i></b> опанувати принципи роботи наведених у роботі алгоритмів для знаходження розв'язку задачі про рюкзак(наплічник). Розробити відповідне програмне забезпечення, визначити оптимальні параметри його роботи з метою пришвидшення отримання розв'язку задачі.</p>"
   ]
  },
  {
   "cell_type": "markdown",
   "id": "16009796",
   "metadata": {},
   "source": [
    "## Завдання до лабораторної роботи\n",
    "\n",
    "- Познайомитись з методами розв'язування поставленої задачі комбінаторної оптимізації у базовому варіанті.\n",
    "- Реалізувати генератор даних для розв'язування задачі про рюкзак (урахувати те, що для згенерованих даних задачі повинна мати розв'язок). Генерацію об'єктів здійснити різної розмірності (різна кількість об'єктів має бути серед вибору). Кількість елементів для кладки в рюкзак взяти меншою за 20.\n",
    "- Реалізувати (середовище і мова на вибір студента) два алгоритми розв'язку задачі про рюкзак: \n",
    "    \n",
    "    1) генетичний алгоритм у класичному його поданні; \n",
    "    2) один на вибір -- жадібний або імітації відпалу.\n",
    "\n",
    "    Для кожного набору даних (відповідної розмірності) має бути знайдений розв'язок задач.\n",
    "- Взяти текстові файли (два будь-які) зі згенерованими даними (перше число - значення максмальної вмістимості рюказака; два інші числа у наступних рядках - вага та ціна об'єкта відповідно, який може бути покладено (або не покладено) в рюкзак). Протестувати реалізований для задачі генетичний алгоритм на цих даних.\n",
    "- Показати динаміку збіжності генетичного алгоритму на основі гістограми популяції, яка змінюється з кожною ітерацією (по осі абсцис - номер хромосоми, по ординат - значення цільової функції). Візуалізацію поточної гістограми можна робити кожні K ітерацій, а не кожну ітерацію, щоб зменшити загальне навантаження на процесор. Також через K ітерацій показати графік кращого знайденого маршруту (гамільтонового циклу).\n",
    "- Показати графік збіжності кращого рішення (по осі OX - номер ітерації; по осі OY - краще значення цільової функції).\n",
    "- Зробити висновки до отриманих даних"
   ]
  },
  {
   "cell_type": "code",
   "execution_count": 1,
   "id": "faab2c8d",
   "metadata": {},
   "outputs": [],
   "source": [
    "import matplotlib.pyplot as plt\n",
    "import numpy as np\n",
    "\n",
    "from GA import *\n",
    "from Anealing import *\n",
    "\n",
    "random.seed(1)"
   ]
  },
  {
   "cell_type": "code",
   "execution_count": 2,
   "id": "4bb8b248",
   "metadata": {},
   "outputs": [],
   "source": [
    "def generate_knapsack_problem():\n",
    "    number_of_items = np.random.randint(20, 50)\n",
    "    max_weight = np.random.randint(10, 1000)\n",
    "    items_info = np.random.randint(1, max_weight//10, (number_of_items, 2))\n",
    "    return number_of_items, max_weight, items_info"
   ]
  },
  {
   "cell_type": "code",
   "execution_count": 3,
   "id": "4e98808b",
   "metadata": {},
   "outputs": [],
   "source": [
    "noi, mw, ii = generate_knapsack_problem()"
   ]
  },
  {
   "cell_type": "code",
   "execution_count": 4,
   "id": "fd98f10a",
   "metadata": {},
   "outputs": [
    {
     "data": {
      "text/plain": [
       "array([[36, 49],\n",
       "       [46, 23],\n",
       "       [54,  8],\n",
       "       [38, 33],\n",
       "       [10, 39],\n",
       "       [36,  7],\n",
       "       [10, 29],\n",
       "       [ 6, 42],\n",
       "       [21, 49],\n",
       "       [32, 14],\n",
       "       [30, 13],\n",
       "       [ 5, 43],\n",
       "       [18, 48],\n",
       "       [57, 20],\n",
       "       [31, 42],\n",
       "       [58,  4],\n",
       "       [17, 59],\n",
       "       [ 5, 24],\n",
       "       [51, 52],\n",
       "       [ 1, 44],\n",
       "       [13,  7],\n",
       "       [31, 30],\n",
       "       [ 6, 16],\n",
       "       [35, 50],\n",
       "       [42, 40],\n",
       "       [54, 22],\n",
       "       [59,  2],\n",
       "       [33, 35],\n",
       "       [48, 14],\n",
       "       [48, 33],\n",
       "       [20,  1],\n",
       "       [36, 39],\n",
       "       [15, 39],\n",
       "       [31, 35],\n",
       "       [32,  2],\n",
       "       [39, 17],\n",
       "       [33,  8],\n",
       "       [52, 48],\n",
       "       [23,  7]], dtype=int32)"
      ]
     },
     "execution_count": 4,
     "metadata": {},
     "output_type": "execute_result"
    }
   ],
   "source": [
    "ii"
   ]
  },
  {
   "cell_type": "markdown",
   "id": "314672b8",
   "metadata": {},
   "source": [
    "## Genetic algorithm"
   ]
  },
  {
   "cell_type": "code",
   "execution_count": 5,
   "id": "7c99d227",
   "metadata": {},
   "outputs": [
    {
     "name": "stdout",
     "output_type": "stream",
     "text": [
      "Максимальна вага рюкзака: 623\n",
      "Згенеровані предмети (вага, вартість):\n",
      "Предмет 1: [36 49]\n",
      "Предмет 2: [46 23]\n",
      "Предмет 3: [54  8]\n",
      "Предмет 4: [38 33]\n",
      "Предмет 5: [10 39]\n",
      "Предмет 6: [36  7]\n",
      "Предмет 7: [10 29]\n",
      "Предмет 8: [ 6 42]\n",
      "Предмет 9: [21 49]\n",
      "Предмет 10: [32 14]\n",
      "Предмет 11: [30 13]\n",
      "Предмет 12: [ 5 43]\n",
      "Предмет 13: [18 48]\n",
      "Предмет 14: [57 20]\n",
      "Предмет 15: [31 42]\n",
      "Предмет 16: [58  4]\n",
      "Предмет 17: [17 59]\n",
      "Предмет 18: [ 5 24]\n",
      "Предмет 19: [51 52]\n",
      "Предмет 20: [ 1 44]\n",
      "Предмет 21: [13  7]\n",
      "Предмет 22: [31 30]\n",
      "Предмет 23: [ 6 16]\n",
      "Предмет 24: [35 50]\n",
      "Предмет 25: [42 40]\n",
      "Предмет 26: [54 22]\n",
      "Предмет 27: [59  2]\n",
      "Предмет 28: [33 35]\n",
      "Предмет 29: [48 14]\n",
      "Предмет 30: [48 33]\n",
      "Предмет 31: [20  1]\n",
      "Предмет 32: [36 39]\n",
      "Предмет 33: [15 39]\n",
      "Предмет 34: [31 35]\n",
      "Предмет 35: [32  2]\n",
      "Предмет 36: [39 17]\n",
      "Предмет 37: [33  8]\n",
      "Предмет 38: [52 48]\n",
      "Предмет 39: [23  7]\n",
      "\n",
      "Найкращий розв'язок:\n",
      "Вартість: 16394\n",
      "Вибрані предмети:\n",
      " [[0 0 0 0 0 0 0 0 0 0 0 1 0 0 0 0 0 0 0 1 0 0 0 0 0 0 0 0 0 0 0 0 0 0 0 0\n",
      "  0 0 0]\n",
      " [0 0 0 0 0 0 0 0 0 0 0 0 0 0 0 0 0 0 0 0 0 0 0 0 0 0 0 0 0 0 0 0 0 0 0 0\n",
      "  0 0 0]\n",
      " [0 0 0 0 0 0 0 0 0 0 0 0 0 0 0 0 0 0 0 0 0 0 0 0 0 0 0 0 0 0 0 0 0 0 0 0\n",
      "  0 0 0]\n",
      " [0 0 0 0 0 0 0 0 0 0 0 0 0 0 0 0 0 0 0 0 0 0 0 0 0 0 0 0 0 0 0 0 0 0 0 0\n",
      "  0 0 0]\n",
      " [0 0 0 0 0 0 0 0 0 0 0 0 0 0 0 0 0 0 0 0 0 0 0 0 0 0 0 0 0 0 0 0 0 0 0 0\n",
      "  0 0 0]\n",
      " [0 0 0 0 0 0 0 0 0 0 0 0 0 0 0 0 0 0 0 0 0 0 0 0 0 0 0 0 0 0 0 0 0 0 0 0\n",
      "  0 0 0]\n",
      " [0 0 0 0 0 0 0 0 0 0 0 0 0 0 0 0 0 0 0 0 0 0 0 0 0 0 0 0 0 0 0 0 0 0 0 0\n",
      "  0 0 0]\n",
      " [0 0 0 0 0 0 0 0 0 0 0 0 0 0 0 0 0 0 0 0 0 0 0 0 0 0 0 0 0 0 0 0 0 0 0 0\n",
      "  0 0 0]\n",
      " [0 0 0 0 0 0 0 0 0 0 0 0 0 0 0 0 0 0 0 0 0 0 0 0 0 0 0 0 0 0 0 0 0 0 0 0\n",
      "  0 0 0]\n",
      " [0 0 0 0 0 0 0 0 0 0 0 0 0 0 0 0 0 0 0 0 0 0 0 0 0 0 0 0 0 0 0 0 0 0 0 0\n",
      "  0 0 0]]\n"
     ]
    }
   ],
   "source": [
    "max_weight = mw\n",
    "items = ii\n",
    "print(\"Максимальна вага рюкзака:\", max_weight)\n",
    "print(\"Згенеровані предмети (вага, вартість):\")\n",
    "for i, item in enumerate(items):\n",
    "    print(f\"Предмет {i+1}: {item}\")\n",
    "\n",
    "ga_solver = GA(items, max_weight, population_size=100, generations=10000, mutation_rate=0.7)\n",
    "\n",
    "best_solution, best_value = ga_solver.run()\n",
    "\n",
    "print(\"\\nНайкращий розв'язок:\")\n",
    "print(f\"Вартість: {best_value[-1]}\")\n",
    "print(\"Вибрані предмети:\\n\", best_solution[-1])"
   ]
  },
  {
   "cell_type": "code",
   "execution_count": 6,
   "id": "f1e528c5",
   "metadata": {},
   "outputs": [
    {
     "data": {
      "text/plain": [
       "array([  0,   0,   0,   0,   0,   0,   0,   0,   0,   0,   0,  62,   0,\n",
       "         0,   0,   0,   0,   0,   0, 312,   0,   0,   0,   0,   0,   0,\n",
       "         0,   0,   0,   0,   0,   0,   0,   0,   0,   0,   0,   0,   0])"
      ]
     },
     "execution_count": 6,
     "metadata": {},
     "output_type": "execute_result"
    }
   ],
   "source": [
    "a = ga_solver.to_int @ best_solution[-1]\n",
    "        \n",
    "for i in range(len(a)):\n",
    "    a[i] = np.round(a[i]/(1<<ga_solver.w) * (mw/ga_solver.items[i][0]))\n",
    "a"
   ]
  },
  {
   "cell_type": "code",
   "execution_count": 7,
   "id": "3401cc60",
   "metadata": {},
   "outputs": [
    {
     "data": {
      "text/plain": [
       "np.int64(622)"
      ]
     },
     "execution_count": 7,
     "metadata": {},
     "output_type": "execute_result"
    }
   ],
   "source": [
    "ii[..., 0] @ a"
   ]
  },
  {
   "cell_type": "code",
   "execution_count": 8,
   "id": "9c1445b1",
   "metadata": {},
   "outputs": [
    {
     "data": {
      "text/plain": [
       "array([[0, 0, 0, 0, 0, 0, 0, 0, 0, 0, 0, 1, 0, 0, 0, 0, 0, 0, 0, 1, 0, 0,\n",
       "        0, 0, 0, 0, 0, 0, 0, 0, 0, 0, 0, 0, 0, 0, 0, 0, 0],\n",
       "       [0, 0, 0, 0, 0, 0, 0, 0, 0, 0, 0, 0, 0, 0, 0, 0, 0, 0, 0, 0, 0, 0,\n",
       "        0, 0, 0, 0, 0, 0, 0, 0, 0, 0, 0, 0, 0, 0, 0, 0, 0],\n",
       "       [0, 0, 0, 0, 0, 0, 0, 0, 0, 0, 0, 0, 0, 0, 0, 0, 0, 0, 0, 0, 0, 0,\n",
       "        0, 0, 0, 0, 0, 0, 0, 0, 0, 0, 0, 0, 0, 0, 0, 0, 0],\n",
       "       [0, 0, 0, 0, 0, 0, 0, 0, 0, 0, 0, 0, 0, 0, 0, 0, 0, 0, 0, 0, 0, 0,\n",
       "        0, 0, 0, 0, 0, 0, 0, 0, 0, 0, 0, 0, 0, 0, 0, 0, 0],\n",
       "       [0, 0, 0, 0, 0, 0, 0, 0, 0, 0, 0, 0, 0, 0, 0, 0, 0, 0, 0, 0, 0, 0,\n",
       "        0, 0, 0, 0, 0, 0, 0, 0, 0, 0, 0, 0, 0, 0, 0, 0, 0],\n",
       "       [0, 0, 0, 0, 0, 0, 0, 0, 0, 0, 0, 0, 0, 0, 0, 0, 0, 0, 0, 0, 0, 0,\n",
       "        0, 0, 0, 0, 0, 0, 0, 0, 0, 0, 0, 0, 0, 0, 0, 0, 0],\n",
       "       [0, 0, 0, 0, 0, 0, 0, 0, 0, 0, 0, 0, 0, 0, 0, 0, 0, 0, 0, 0, 0, 0,\n",
       "        0, 0, 0, 0, 0, 0, 0, 0, 0, 0, 0, 0, 0, 0, 0, 0, 0],\n",
       "       [0, 0, 0, 0, 0, 0, 0, 0, 0, 0, 0, 0, 0, 0, 0, 0, 0, 0, 0, 0, 0, 0,\n",
       "        0, 0, 0, 0, 0, 0, 0, 0, 0, 0, 0, 0, 0, 0, 0, 0, 0],\n",
       "       [0, 0, 0, 0, 0, 0, 0, 0, 0, 0, 0, 0, 0, 0, 0, 0, 0, 0, 0, 0, 0, 0,\n",
       "        0, 0, 0, 0, 0, 0, 0, 0, 0, 0, 0, 0, 0, 0, 0, 0, 0],\n",
       "       [0, 0, 0, 0, 0, 0, 0, 0, 0, 0, 0, 0, 0, 0, 0, 0, 0, 0, 0, 0, 0, 0,\n",
       "        0, 0, 0, 0, 0, 0, 0, 0, 0, 0, 0, 0, 0, 0, 0, 0, 0]], dtype=int32)"
      ]
     },
     "execution_count": 8,
     "metadata": {},
     "output_type": "execute_result"
    }
   ],
   "source": [
    "best_solution[-1]"
   ]
  },
  {
   "cell_type": "code",
   "execution_count": 9,
   "id": "f43cd6dc",
   "metadata": {},
   "outputs": [],
   "source": [
    "# delta_weight = mw - (best_solution[-1] @ ii[..., 0])\n",
    "# for i in range(len(ii)):\n",
    "#     if ii[i, 0] < delta_weight:\n",
    "#         print(f\"Предмет {i+1} може ще вміститися в рюкзак {ii[i, 0]}\")"
   ]
  },
  {
   "cell_type": "code",
   "execution_count": 10,
   "id": "1ec78df5",
   "metadata": {},
   "outputs": [
    {
     "data": {
      "text/plain": [
       "[<matplotlib.lines.Line2D at 0x1471d51b620>]"
      ]
     },
     "execution_count": 10,
     "metadata": {},
     "output_type": "execute_result"
    },
    {
     "data": {
      "image/png": "[encoded data removed]",
      "text/plain": [
       "<Figure size 640x480 with 1 Axes>"
      ]
     },
     "metadata": {},
     "output_type": "display_data"
    }
   ],
   "source": [
    "plt.plot(list(range(len(best_value))), best_value, label='Генетичний алгоритм')"
   ]
  },
  {
   "cell_type": "code",
   "execution_count": 11,
   "id": "efbdf214",
   "metadata": {},
   "outputs": [
    {
     "name": "stdout",
     "output_type": "stream",
     "text": [
      "24_992_885_275_867_070_871_940_589_153_265_424_364_942_131_200_000_000_000, 56\n"
     ]
    }
   ],
   "source": [
    "res = []\n",
    "for i in range(len(ii)):\n",
    "    res.append(int(mw // ii[i, 0])+1)\n",
    "mlres = 1\n",
    "for a in res:\n",
    "    mlres *= a\n",
    "print(f\"{mlres:_}, {len(str(mlres))}\")"
   ]
  },
  {
   "cell_type": "markdown",
   "id": "d4e2e6c6",
   "metadata": {},
   "source": [
    "## Anealing"
   ]
  },
  {
   "cell_type": "code",
   "execution_count": 12,
   "id": "4d18773a",
   "metadata": {},
   "outputs": [
    {
     "name": "stdout",
     "output_type": "stream",
     "text": [
      "Предмети (вага, вартість):\n",
      "Предмет 1: [36 49]\n",
      "Предмет 2: [46 23]\n",
      "Предмет 3: [54  8]\n",
      "Предмет 4: [38 33]\n",
      "Предмет 5: [10 39]\n",
      "Предмет 6: [36  7]\n",
      "Предмет 7: [10 29]\n",
      "Предмет 8: [ 6 42]\n",
      "Предмет 9: [21 49]\n",
      "Предмет 10: [32 14]\n",
      "Предмет 11: [30 13]\n",
      "Предмет 12: [ 5 43]\n",
      "Предмет 13: [18 48]\n",
      "Предмет 14: [57 20]\n",
      "Предмет 15: [31 42]\n",
      "Предмет 16: [58  4]\n",
      "Предмет 17: [17 59]\n",
      "Предмет 18: [ 5 24]\n",
      "Предмет 19: [51 52]\n",
      "Предмет 20: [ 1 44]\n",
      "Предмет 21: [13  7]\n",
      "Предмет 22: [31 30]\n",
      "Предмет 23: [ 6 16]\n",
      "Предмет 24: [35 50]\n",
      "Предмет 25: [42 40]\n",
      "Предмет 26: [54 22]\n",
      "Предмет 27: [59  2]\n",
      "Предмет 28: [33 35]\n",
      "Предмет 29: [48 14]\n",
      "Предмет 30: [48 33]\n",
      "Предмет 31: [20  1]\n",
      "Предмет 32: [36 39]\n",
      "Предмет 33: [15 39]\n",
      "Предмет 34: [31 35]\n",
      "Предмет 35: [32  2]\n",
      "Предмет 36: [39 17]\n",
      "Предмет 37: [33  8]\n",
      "Предмет 38: [52 48]\n",
      "Предмет 39: [23  7]\n",
      "\n",
      "Найкращий розв'язок:\n",
      "Загальна вартість: 0\n",
      "Загальна вага: 11460/623\n",
      "Вибрані предмети: [  3   5   6  15  55  10  40   9  22   4  19  47  12   8   5  10  30  96\n",
      "   4 335  13   0 101  17   6   2   3   2   6   4  17   7   4   4  19   1\n",
      "   7   2  14]\n"
     ]
    }
   ],
   "source": [
    "max_weight = mw\n",
    "items = ii\n",
    "\n",
    "print(\"Предмети (вага, вартість):\")\n",
    "for i, item in enumerate(items):\n",
    "    print(f\"Предмет {i+1}: {item}\")\n",
    "\n",
    "sa_solver = SA(items, max_weight, initial_temp=200, cooling_rate=0.999, iterations=100_000)\n",
    "\n",
    "best_solution, best_value_history = sa_solver.run()\n",
    "\n",
    "# Обчислення ваги рішення\n",
    "total_weight = best_solution @ items[..., 0]\n",
    "\n",
    "print(\"\\nНайкращий розв'язок:\")\n",
    "print(f\"Загальна вартість: {best_value_history[-1]}\")\n",
    "print(f\"Загальна вага: {total_weight}/{max_weight}\")\n",
    "print(\"Вибрані предмети:\", best_solution)"
   ]
  },
  {
   "cell_type": "code",
   "execution_count": 13,
   "id": "3f1e9692",
   "metadata": {},
   "outputs": [
    {
     "data": {
      "text/plain": [
       "[<matplotlib.lines.Line2D at 0x1471f8ca660>]"
      ]
     },
     "execution_count": 13,
     "metadata": {},
     "output_type": "execute_result"
    },
    {
     "data": {
      "image/png": "[encoded data removed]",
      "text/plain": [
       "<Figure size 640x480 with 1 Axes>"
      ]
     },
     "metadata": {},
     "output_type": "display_data"
    }
   ],
   "source": [
    "plt.plot(list(range(len(best_value_history))), best_value_history, label='Метод відпалу')"
   ]
  },
  {
   "cell_type": "code",
   "execution_count": null,
   "id": "c5a86270",
   "metadata": {},
   "outputs": [],
   "source": []
  }
 ],
 "metadata": {
  "kernelspec": {
   "display_name": "venv_lab5",
   "language": "python",
   "name": "python3"
  },
  "language_info": {
   "codemirror_mode": {
    "name": "ipython",
    "version": 3
   },
   "file_extension": ".py",
   "mimetype": "text/x-python",
   "name": "python",
   "nbconvert_exporter": "python",
   "pygments_lexer": "ipython3",
   "version": "3.12.1"
  }
 },
 "nbformat": 4,
 "nbformat_minor": 5
}
